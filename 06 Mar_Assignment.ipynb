{
 "cells": [
  {
   "cell_type": "code",
   "execution_count": null,
   "id": "e3f84a84-ea29-4101-9e12-16aa035470b5",
   "metadata": {},
   "outputs": [],
   "source": [
    "#Q.1\n",
    "Statistics: Statistics is the science of collecting , organizing and analyzing data."
   ]
  },
  {
   "cell_type": "code",
   "execution_count": null,
   "id": "daf7c47b-91f6-494c-bee2-4fdce58d90fa",
   "metadata": {},
   "outputs": [],
   "source": [
    "#Q.2\n",
    "Two type of Statistics\n",
    "1.Descriptive Statistics: It consist of organized and summrizind data.\n",
    "It is use to \n",
    "a.Measure of cotrole tendency(mean , median , mode).\n",
    "b.Measure of Despersion (variance , std).\n",
    "c.Difference type of Distribution of data.\n",
    "\n",
    "2.Inferantial Statiatics: It consist of using data you have measured to form conclusion.\n",
    "It is use to\n",
    "a.Z-test\n",
    "b.t-test"
   ]
  },
  {
   "cell_type": "code",
   "execution_count": null,
   "id": "7db394c9-b9b7-4ba1-b18e-174e41a57eb1",
   "metadata": {},
   "outputs": [],
   "source": [
    "#Q.3\n",
    "Two type of data \n",
    "1.Quantitative Data: It contain numerical data and its two type\n",
    "(a).Descrete data:The term discrete means distinct or separate. The discrete data contain the values that fall under integers or whole numbers.\n",
    "(b).Continuous Data:Continuous data are in the form of fractional numbers. It can be the version of an android phone, the height of a person, the length of an object, etc.\n",
    "\n",
    "2.Qualitative Data: It contain catagorical data and its also two type\n",
    "(a).Nominal Data:Nominal Data is used to label variables without any order or quantitative value. The color of hair can be considered nominal data, \n",
    "as one color can’t be compared with another color.\n",
    "(b).Ordinal Data:Ordinal data have natural ordering where a number is present in some kind of order by their position on the scale. \n",
    "These data are used for observation like customer satisfaction, happiness, etc."
   ]
  },
  {
   "cell_type": "code",
   "execution_count": null,
   "id": "bfed23e4-1607-4eeb-ab8c-01d5de4bdbfe",
   "metadata": {},
   "outputs": [],
   "source": [
    "#Q.4\n",
    "Quantitative data is \n",
    "(iii) Height data of a class: [178.9, 179, 179.5, 176, 177.2, 178.3, 175.8,...]\n",
    "(iv) Number of mangoes exported by a farm: [500, 600, 478, 672, ...]\n",
    "and \n",
    "Qualitative data is \n",
    "(i) Grading in exam: A+, A, B+, B, C+, C, D, E\n",
    "(ii) Colour of mangoes: yellow, green, orange, red."
   ]
  },
  {
   "cell_type": "code",
   "execution_count": null,
   "id": "6afea58c-bd91-4004-8ae9-a44db70156bd",
   "metadata": {},
   "outputs": [],
   "source": [
    "#Q.5\n",
    "Four type of level of measurement\n",
    "(1).Nominal scale data: Nominal scales contain the least amount of information. \n",
    "In nominal scales, the numbers assigned to each variable or observation are only used to classify the variable or observation.\n",
    "For example: Favorite color.\n",
    "\n",
    "(2).Ordinal scale data:Ordinal scales present more information than nominal scales and are, therefore, a higher level of measurement.\n",
    "In ordinal scales, there is an ordered relationship between the variable’s observations. \n",
    "For example: Best , Good , Bad.\n",
    "\n",
    "(3).Inteval scale data:interval scales are ordinal scales but with equivalent scale values from low to high intervals.\n",
    "For example: Temperature measurement is an example of an interval scale.\n",
    "\n",
    "(4).Ratio scale data:Ratio scales are the most informative scales. Ratio scales provide rankings, assure equal differences between scale values,\n",
    "and have a true zero point. In essence, a ratio scale can be thought of as nominal, ordinal, and interval scales combined as one.\n",
    "For example: Student marks in the class."
   ]
  },
  {
   "cell_type": "code",
   "execution_count": null,
   "id": "3a7bad52-8f83-4e66-8abb-6667b4a48e1a",
   "metadata": {},
   "outputs": [],
   "source": [
    "#Q.6\n",
    "It is important to understand the level of measurement of variables in research, because the level of measurement\n",
    "determines the type of statistical analysis that can be conducted, and, therefore, the type of conclusions that can be drawn from the research."
   ]
  },
  {
   "cell_type": "code",
   "execution_count": null,
   "id": "27dde706-0275-450a-90ad-178963f3b0fd",
   "metadata": {},
   "outputs": [],
   "source": [
    "#Q.7\n",
    "Nominal data is classified without a natural order or rank, whereas ordinal data has a predetermined or natural order.\n",
    "On the other hand, numerical or quantitative data will always be a number that can be measured."
   ]
  },
  {
   "cell_type": "code",
   "execution_count": null,
   "id": "a8a9ee96-0600-4ead-9deb-acc93a21fbff",
   "metadata": {},
   "outputs": [],
   "source": [
    "#Q.8\n",
    "Histogram. If the groups depicted in a bar chart are actually continuous numeric ranges, we can push the bars together to generate a histogram.\n",
    "Bar lengths in histograms typically correspond to counts of data points, and their patterns demonstrate the distribution of variables in your data."
   ]
  },
  {
   "cell_type": "code",
   "execution_count": null,
   "id": "5c3057eb-750b-4d82-87b8-1050ed006955",
   "metadata": {},
   "outputs": [],
   "source": [
    "#Q.9\n",
    "Inferential statistics helps to compare data, make hypotheses and predictions. Descriptive statistics explains already known data related to a particular\n",
    "sample or population of a small size. Inferential statistics, however, aims to draw inferences or conclusions about a whole population."
   ]
  },
  {
   "cell_type": "code",
   "execution_count": null,
   "id": "95c94ead-61e6-4a78-8dec-9a376fefb023",
   "metadata": {},
   "outputs": [],
   "source": [
    "#Q.10\n",
    "Measures of central tendency are summary statistics that represent the center point or typical value of a dataset. \n",
    "Examples of these measures include the mean, median, and mode. \n",
    "These statistics indicate where most values in a distribution fall and are also referred to as the central location of a distribution."
   ]
  }
 ],
 "metadata": {
  "kernelspec": {
   "display_name": "Python 3 (ipykernel)",
   "language": "python",
   "name": "python3"
  },
  "language_info": {
   "codemirror_mode": {
    "name": "ipython",
    "version": 3
   },
   "file_extension": ".py",
   "mimetype": "text/x-python",
   "name": "python",
   "nbconvert_exporter": "python",
   "pygments_lexer": "ipython3",
   "version": "3.10.8"
  }
 },
 "nbformat": 4,
 "nbformat_minor": 5
}
